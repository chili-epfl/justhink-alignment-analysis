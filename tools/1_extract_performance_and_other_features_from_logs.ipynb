{
 "cells": [
  {
   "cell_type": "code",
   "execution_count": 1,
   "metadata": {},
   "outputs": [],
   "source": [
    "import os\n",
    "import datetime\n",
    "import pickle\n",
    "import subprocess\n",
    "\n",
    "import pathlib as pl\n",
    "import networkx as nx\n",
    "import pandas as pd\n",
    "import numpy as np\n",
    "\n",
    "from scipy import stats\n",
    "\n",
    "# Visualisation\n",
    "import matplotlib.pyplot as plt\n",
    "import seaborn as sns"
   ]
  },
  {
   "cell_type": "code",
   "execution_count": 2,
   "metadata": {},
   "outputs": [],
   "source": [
    "plt.rcParams['font.family'] = \"serif\"\n",
    "pd.set_option('display.max_rows', None)\n",
    "pd.set_option('display.max_columns', 500)\n",
    "pd.set_option('display.max_colwidth', 200)"
   ]
  },
  {
   "cell_type": "markdown",
   "metadata": {},
   "source": [
    "## Define paths."
   ]
  },
  {
   "cell_type": "code",
   "execution_count": 3,
   "metadata": {},
   "outputs": [],
   "source": [
    "# Inputs.\n",
    "data_dir = pl.Path('../data')\n",
    "graph_file = data_dir.joinpath('metadata/network.json')\n",
    "\n",
    "logs_dir = data_dir.joinpath('logs')\n",
    "\n",
    "# Outputs.\n",
    "output_dir = pl.Path('../outputs')\n",
    "temp_dir = output_dir.joinpath('temp')\n",
    "intermediate_dir = output_dir.joinpath('intermediate')\n",
    "\n",
    "for folder in [intermediate_dir]:\n",
    "    if not folder.exists():\n",
    "        folder.mkdir(parents=True)"
   ]
  },
  {
   "cell_type": "markdown",
   "metadata": {
    "code_folding": []
   },
   "source": [
    "## Load data."
   ]
  },
  {
   "cell_type": "markdown",
   "metadata": {},
   "source": [
    "### Load logs."
   ]
  },
  {
   "cell_type": "markdown",
   "metadata": {},
   "source": [
    "#### Make a list of the available log files."
   ]
  },
  {
   "cell_type": "code",
   "execution_count": 4,
   "metadata": {},
   "outputs": [
    {
     "name": "stdout",
     "output_type": "stream",
     "text": [
      "39 log files found.\n"
     ]
    }
   ],
   "source": [
    "log_filelist = sorted([f for f in logs_dir.glob('*.csv')])\n",
    "print('{} log files found.'.format(len(log_filelist)))"
   ]
  },
  {
   "cell_type": "markdown",
   "metadata": {},
   "source": [
    "#### Organize the log file list as a dictionary keyed by team number."
   ]
  },
  {
   "cell_type": "code",
   "execution_count": 5,
   "metadata": {},
   "outputs": [
    {
     "name": "stdout",
     "output_type": "stream",
     "text": [
      "File justhink19_log_06 belongs to task  6\n",
      "File justhink19_log_07 belongs to task  7\n",
      "File justhink19_log_08 belongs to task  8\n",
      "File justhink19_log_09 belongs to task  9\n",
      "File justhink19_log_10 belongs to task 10\n",
      "File justhink19_log_11 belongs to task 11\n",
      "File justhink19_log_12 belongs to task 12\n",
      "File justhink19_log_14 belongs to task 14\n",
      "File justhink19_log_15 belongs to task 15\n",
      "File justhink19_log_16 belongs to task 16\n",
      "File justhink19_log_17 belongs to task 17\n",
      "File justhink19_log_18 belongs to task 18\n",
      "File justhink19_log_19 belongs to task 19\n",
      "File justhink19_log_20 belongs to task 20\n",
      "File justhink19_log_21 belongs to task 21\n",
      "File justhink19_log_22 belongs to task 22\n",
      "File justhink19_log_23 belongs to task 23\n",
      "File justhink19_log_25 belongs to task 25\n",
      "File justhink19_log_26 belongs to task 26\n",
      "File justhink19_log_27 belongs to task 27\n",
      "File justhink19_log_28 belongs to task 28\n",
      "File justhink19_log_29 belongs to task 29\n",
      "File justhink19_log_30 belongs to task 30\n",
      "File justhink19_log_31 belongs to task 31\n",
      "File justhink19_log_32 belongs to task 32\n",
      "File justhink19_log_33 belongs to task 33\n",
      "File justhink19_log_34 belongs to task 34\n",
      "File justhink19_log_35 belongs to task 35\n",
      "File justhink19_log_36 belongs to task 36\n",
      "File justhink19_log_37 belongs to task 37\n",
      "File justhink19_log_38 belongs to task 38\n",
      "File justhink19_log_39 belongs to task 39\n",
      "File justhink19_log_40 belongs to task 40\n",
      "File justhink19_log_41 belongs to task 41\n",
      "File justhink19_log_42 belongs to task 42\n",
      "File justhink19_log_44 belongs to task 44\n",
      "File justhink19_log_45 belongs to task 45\n",
      "File justhink19_log_46 belongs to task 46\n",
      "File justhink19_log_47 belongs to task 47\n"
     ]
    }
   ],
   "source": [
    "def get_team_no_from_log_filename(filename):\n",
    "    '''extract the team no from a log file name of format *_<team_no>.*'''\n",
    "    return int(str(pl.Path(filename).stem).split('_')[-1])\n",
    "\n",
    "\n",
    "log_files = {\n",
    "    get_team_no_from_log_filename(f): f\n",
    "    for f in log_filelist\n",
    "}\n",
    "\n",
    "for team_no, file in log_files.items():\n",
    "    print('File {} belongs to task {:2d}'.format(file.stem, team_no))"
   ]
  },
  {
   "cell_type": "markdown",
   "metadata": {},
   "source": [
    "#### Read the log files."
   ]
  },
  {
   "cell_type": "code",
   "execution_count": 6,
   "metadata": {},
   "outputs": [
    {
     "name": "stdout",
     "output_type": "stream",
     "text": [
      "Table of  6 has  100 events\n",
      "Table of  7 has  420 events\n",
      "Table of  8 has  263 events\n",
      "Table of  9 has  266 events\n",
      "Table of 10 has  300 events\n",
      "Table of 11 has  343 events\n",
      "Table of 12 has  386 events\n",
      "Table of 14 has  166 events\n",
      "Table of 15 has  322 events\n",
      "Table of 16 has  171 events\n",
      "Table of 17 has  126 events\n",
      "Table of 18 has  147 events\n",
      "Table of 19 has  252 events\n",
      "Table of 20 has  146 events\n",
      "Table of 21 has  188 events\n",
      "Table of 22 has  247 events\n",
      "Table of 23 has  394 events\n",
      "Table of 25 has  142 events\n",
      "Table of 26 has  205 events\n",
      "Table of 27 has  221 events\n",
      "Table of 28 has  142 events\n",
      "Table of 29 has  226 events\n",
      "Table of 30 has  307 events\n",
      "Table of 31 has  201 events\n",
      "Table of 32 has  221 events\n",
      "Table of 33 has  156 events\n",
      "Table of 34 has  196 events\n",
      "Table of 35 has  286 events\n",
      "Table of 36 has  210 events\n",
      "Table of 37 has  180 events\n",
      "Table of 38 has  289 events\n",
      "Table of 39 has  182 events\n",
      "Table of 40 has  233 events\n",
      "Table of 41 has  113 events\n",
      "Table of 42 has  140 events\n",
      "Table of 44 has  357 events\n",
      "Table of 45 has  129 events\n",
      "Table of 46 has  138 events\n",
      "Table of 47 has  246 events\n"
     ]
    }
   ],
   "source": [
    "log_dfs = dict()\n",
    "\n",
    "for team_no, f in log_files.items():\n",
    "    # Read the file into a table.\n",
    "    df = pd.read_csv(f, sep='\\t')\n",
    "\n",
    "    log_dfs[team_no] = df\n",
    "\n",
    "\n",
    "for team_no, df in log_dfs.items():\n",
    "    print('Table of {:2d} has {:4d} events'.format(team_no, len(df)))"
   ]
  },
  {
   "cell_type": "markdown",
   "metadata": {},
   "source": [
    "#### Combine the log tables into a corpus."
   ]
  },
  {
   "cell_type": "code",
   "execution_count": 7,
   "metadata": {},
   "outputs": [],
   "source": [
    "data_df = pd.concat(log_dfs.values(), ignore_index=True)\n",
    "data_df.insert(2, 'corpus_no', 1)"
   ]
  },
  {
   "cell_type": "markdown",
   "metadata": {},
   "source": [
    "### Load the background graph.\n"
   ]
  },
  {
   "cell_type": "markdown",
   "metadata": {},
   "source": [
    "#### Load from file, formatted as a node-link JSON.\n",
    "\n",
    "c.f. https://networkx.org/documentation/stable/reference/readwrite/json_graph.html\n",
    "\n",
    "in particular https://networkx.org/documentation/stable/reference/readwrite/generated/networkx.readwrite.json_graph.node_link_graph.html#networkx.readwrite.json_graph.node_link_graph"
   ]
  },
  {
   "cell_type": "code",
   "execution_count": 8,
   "metadata": {},
   "outputs": [
    {
     "name": "stdout",
     "output_type": "stream",
     "text": [
      "Graph read from ../data/metadata/network.json: 10 nodes, 20 edges\n"
     ]
    }
   ],
   "source": [
    "from networkx.readwrite import json_graph\n",
    "\n",
    "def load_graph(graph_file):\n",
    "    try:\n",
    "        #graph = nx.read_graphml(str(graph_file), node_type=int)\n",
    "        with pl.Path(graph_file).open() as f:\n",
    "            data = json.load(f)\n",
    "        graph = json_graph.node_link_graph(data)\n",
    "\n",
    "        for u, v, d in graph.edges(data=True):\n",
    "            u_node = graph.nodes[u]\n",
    "            v_node = graph.nodes[v]\n",
    "        \n",
    "        return graph\n",
    "    except IOError as e:\n",
    "        # The file was missing.\n",
    "        load_text = \"File {} not found\".format(graph_file)\n",
    "        return nx.Graph()\n",
    "\n",
    "    \n",
    "graph = load_graph(graph_file)\n",
    "print('Graph read from {}: {} nodes, {} edges'.format(\n",
    "    graph_file, graph.number_of_nodes(), graph.number_of_edges()))"
   ]
  },
  {
   "cell_type": "markdown",
   "metadata": {},
   "source": [
    "#### Visualize the graph."
   ]
  },
  {
   "cell_type": "code",
   "execution_count": 9,
   "metadata": {
    "code_folding": []
   },
   "outputs": [
    {
     "data": {
      "text/plain": [
       "(<Figure size 432x288 with 1 Axes>,\n",
       " <matplotlib.axes._subplots.AxesSubplot at 0x7f71ec194a30>)"
      ]
     },
     "execution_count": 9,
     "metadata": {},
     "output_type": "execute_result"
    },
    {
     "data": {
      "image/png": "[encoded data removed]",
      "text/plain": [
       "<Figure size 432x288 with 1 Axes>"
      ]
     },
     "metadata": {},
     "output_type": "display_data"
    }
   ],
   "source": [
    "def draw_network(G, labels=None):\n",
    "\n",
    "    x_values = nx.get_node_attributes(G, 'x')\n",
    "    y_values = nx.get_node_attributes(G, 'y')\n",
    "\n",
    "    pos = {u: (x_values[u], y_values[u]) for u in G.nodes()}\n",
    "\n",
    "    fig, ax = plt.subplots()\n",
    "\n",
    "    if labels is None:\n",
    "        labels = {u: '{}-{}'.format(u, d['label'].split()[-1])\n",
    "                  for u, d in G.nodes(data=True)}\n",
    "\n",
    "    nx.draw(G,\n",
    "            pos=pos,\n",
    "            with_labels=True,\n",
    "            labels=labels,\n",
    "            nodelist=[u for u in G.nodes()],\n",
    "            ax=ax)\n",
    "\n",
    "    labels = nx.get_edge_attributes(G, 'cost')\n",
    "    nx.draw_networkx_edge_labels(G, pos, edge_labels=labels)\n",
    "    ax.margins(0.1)\n",
    "\n",
    "    return fig, ax\n",
    "\n",
    "\n",
    "draw_network(graph)"
   ]
  },
  {
   "cell_type": "markdown",
   "metadata": {},
   "source": [
    "### Find the optimal solutions.\n",
    "i.e. minimum spanning trees."
   ]
  },
  {
   "cell_type": "markdown",
   "metadata": {},
   "source": [
    "#### Find a minimum spanning tree."
   ]
  },
  {
   "cell_type": "code",
   "execution_count": 10,
   "metadata": {},
   "outputs": [
    {
     "name": "stdout",
     "output_type": "stream",
     "text": [
      "MST found, 10 nodes, 9 edges, cost = 22\n"
     ]
    },
    {
     "data": {
      "image/png": "[encoded data removed]",
      "text/plain": [
       "<Figure size 432x288 with 1 Axes>"
      ]
     },
     "metadata": {},
     "output_type": "display_data"
    }
   ],
   "source": [
    "def solve_mst(G, weight_key='cost'):\n",
    "    return nx.minimum_spanning_tree(G, weight=weight_key)\n",
    "\n",
    "\n",
    "def calculate_graph_cost(G):\n",
    "    return sum([d['cost'] for u, v, d in G.edges(data=True) if 'cost' in d])\n",
    "\n",
    "\n",
    "def calculate_state_cost(state, graph):\n",
    "    return calculate_edge_set_cost(state['G']['add'], graph)\n",
    "\n",
    "\n",
    "def calculate_edge_set_cost(edge_set, graph):\n",
    "    return sum([graph[u][v]['cost'] for u, v in edge_set])\n",
    "\n",
    "\n",
    "mst_graph_1 = solve_mst(graph)\n",
    "mst_graph_1.graph['cost'] = calculate_graph_cost(mst_graph_1)\n",
    "\n",
    "print('MST found, {} nodes, {} edges, cost = {}'.format(\n",
    "    mst_graph_1.number_of_nodes(), mst_graph_1.number_of_edges(),\n",
    "    mst_graph_1.graph['cost']))\n",
    "\n",
    "draw_network(mst_graph_1)\n",
    "optimal_cost = mst_graph_1.graph['cost']"
   ]
  },
  {
   "cell_type": "markdown",
   "metadata": {},
   "source": [
    "#### Construct the second one manually."
   ]
  },
  {
   "cell_type": "code",
   "execution_count": 11,
   "metadata": {},
   "outputs": [
    {
     "name": "stdout",
     "output_type": "stream",
     "text": [
      "Alternative MST constructed, 10 nodes, 9 edges, cost = 22\n"
     ]
    },
    {
     "data": {
      "text/plain": [
       "(<Figure size 432x288 with 1 Axes>,\n",
       " <matplotlib.axes._subplots.AxesSubplot at 0x7f7160ec7eb0>)"
      ]
     },
     "execution_count": 11,
     "metadata": {},
     "output_type": "execute_result"
    },
    {
     "data": {
      "image/png": "[encoded data removed]",
      "text/plain": [
       "<Figure size 432x288 with 1 Axes>"
      ]
     },
     "metadata": {},
     "output_type": "display_data"
    }
   ],
   "source": [
    "mst_graph_2 = mst_graph_1.copy()\n",
    "mst_graph_2.add_edge(2, 8, cost=3)\n",
    "mst_graph_2.remove_edge(1, 9)\n",
    "\n",
    "mst_graph_2.graph['cost'] = calculate_graph_cost(mst_graph_2)\n",
    "print('Alternative MST constructed, {} nodes, {} edges, cost = {}'.format(\n",
    "    mst_graph_2.number_of_nodes(), mst_graph_2.number_of_edges(),\n",
    "    mst_graph_2.graph['cost']))\n",
    "\n",
    "draw_network(mst_graph_2)"
   ]
  },
  {
   "cell_type": "markdown",
   "metadata": {},
   "source": [
    "### Extract features from logs."
   ]
  },
  {
   "cell_type": "markdown",
   "metadata": {},
   "source": [
    "Make a tables object to hold the data and computed feature tables."
   ]
  },
  {
   "cell_type": "code",
   "execution_count": 12,
   "metadata": {},
   "outputs": [],
   "source": [
    "tables = {'data': data_df}"
   ]
  },
  {
   "cell_type": "markdown",
   "metadata": {},
   "source": [
    "Compute time difference between the time of consecutive event pairs.\n",
    "To be used for computing duration later."
   ]
  },
  {
   "cell_type": "code",
   "execution_count": 14,
   "metadata": {},
   "outputs": [],
   "source": [
    "durations = lambda x: x['time'].diff().fillna(0)\n",
    "data_df['duration'] = data_df.groupby('team_no').apply(durations).reset_index(drop=True)"
   ]
  },
  {
   "cell_type": "markdown",
   "metadata": {},
   "source": [
    "### Create groups that represent the different granularities (levels of analysis).\n",
    "\n",
    "Define four time granularities to study an actions corpus:\n",
    "1. Corpus Level:  The whole collection of temporal team action data for all teams\n",
    "1. Task level: The complete time that a team plays\n",
    "2. Attempt level: The duration of the team constructing a solution and submitting it together\n",
    "3. Turn level: The duration where one of the player is in figurative view \n",
    "4. Action level: actions done by the players or the tutor"
   ]
  },
  {
   "cell_type": "code",
   "execution_count": null,
   "metadata": {},
   "outputs": [],
   "source": [
    "levels = {\n",
    "    'corpus': data_df.groupby('corpus_no'),\n",
    "    'task': data_df.groupby(['corpus_no', 'team_no']), \n",
    "    'attempt': data_df.groupby(['corpus_no', 'team_no', 'attempt_no']), \n",
    "    'turn': data_df.groupby(['team_no', 'attempt_no', 'turn_no']),\n",
    "}"
   ]
  },
  {
   "cell_type": "markdown",
   "metadata": {},
   "source": [
    "### Define the features as functions."
   ]
  },
  {
   "cell_type": "code",
   "execution_count": null,
   "metadata": {},
   "outputs": [],
   "source": [
    "# Performance Features\n",
    "\n",
    "def success(x, opt_cost=optimal_cost):\n",
    "    '''whether a team has succeeded i.e. found the optimal solution, at task level only'''\n",
    "   # return x.name[-1] in metadata['success']\n",
    "    c = cost(x)\n",
    "    return not np.isnan(c) and c == opt_cost\n",
    "\n",
    "\n",
    "def cost(x):\n",
    "    '''the sum of the edge costs of the submitted solution'''\n",
    "    submits = x[x['verb'].isin(['submits'])]\n",
    "    if len(submits) > 0:\n",
    "        return int(submits['object'].iloc[-1].split()[0].split('=')[-1])\n",
    "    else:\n",
    "        return np.nan\n",
    "\n",
    "\n",
    "def abs_error(x, opt_cost=optimal_cost):\n",
    "    '''absolute error, i.e. the difference between the cost of the submitted solution and the cost of an optimal/correct solution (optimal cost)'''\n",
    "    return (cost(x) - opt_cost)\n",
    "\n",
    "\n",
    "def error(x, opt_cost=optimal_cost):\n",
    "    '''relative error, i.e. absolute error divided by the optimal cost'''\n",
    "    return 1.0 * (cost(x) - opt_cost) / opt_cost\n",
    "\n",
    "# Task/Attempt/Turn/Event Counts\n",
    "\n",
    "\n",
    "def num_task(x):\n",
    "    '''number of tasks, where a task is \n",
    "    the complete period that a team plays to find an optimal solution'''\n",
    "    return len(x['team_no'].unique())\n",
    "\n",
    "\n",
    "def num_attempt(x):\n",
    "    '''number of attempts, where an attempt is the duration of the team constructing a solution and submitting it together as a proposal'''\n",
    "    return len(x['attempt_no'].unique())\n",
    "\n",
    "\n",
    "def num_turn(x):\n",
    "    '''number of turns, where a turn is the duration where one player is in figurative view and the other player is in abstract view'''\n",
    "    return len(x['turn_no'].unique())\n",
    "\n",
    "\n",
    "def num_action(x):\n",
    "    '''number of actions, where an action is something done by the players or the tutor.'''\n",
    "    return len(x['subject'].isin(['A', 'B', 'R']))\n",
    "\n",
    "\n",
    "def avg_turn(x):\n",
    "    '''number of turns normalized by the number of attempts'''\n",
    "    return 1.0 * num_turn(x) / num_attempt(x)\n",
    "\n",
    "\n",
    "def avg_action_per_turn(x):\n",
    "    '''number of actions normalized by the number of turns'''\n",
    "    return 1.0 * num_action(x) / num_turn(x)\n",
    "\n",
    "\n",
    "# Duration Related\n",
    "\n",
    "\n",
    "def start(x):\n",
    "    '''start time in seconds'''\n",
    "    return x['time'].iloc[0]\n",
    "\n",
    "\n",
    "def end(x):\n",
    "    '''end time in seconds'''\n",
    "    return x['time'].iloc[-1]\n",
    "\n",
    "\n",
    "def duration(x):\n",
    "    '''total time (in seconds) spent in the task until finding the optimal solution or time-up intervention'''\n",
    "    return x['duration'].sum()\n",
    "\n",
    "\n",
    "# Features on Edit Actions\n",
    "\n",
    "\n",
    "def num_add(x):\n",
    "    '''number of additions'''\n",
    "    return x['verb'].isin(['adds']).sum()\n",
    "\n",
    "\n",
    "def num_del(x):\n",
    "    '''number of deletions'''\n",
    "    return x['verb'].isin(['removes']).sum()\n",
    "\n",
    "\n",
    "def num_edit(x):\n",
    "    '''number of edits (additions and deletions) on the graph'''\n",
    "    return num_add(x) + num_del(x)\n",
    "\n",
    "\n",
    "def freq_add(x):\n",
    "    '''relative frequency of additions, as divided by the total number of additions and deletions'''\n",
    "    n = num_edit(x)\n",
    "    if n == 0:\n",
    "        return -1\n",
    "    else:\n",
    "        return 1.0 * num_add(x) / n\n",
    "\n",
    "\n",
    "def freq_del(x):\n",
    "    '''relative frequency of deletions, as normalized by the total number of additions and deletions'''\n",
    "    return 1 - freq_add(x)\n",
    "\n",
    "def num_histload(x):\n",
    "    ''' how many times a previous solution was loaded i.e. brought back'''\n",
    "    return x['object'].isin(['apply (enabled)']).sum()\n",
    "\n",
    "\n",
    "def freq_histload(x):\n",
    "    '''relative frequency of the previous solution was bring-backs \n",
    "    as normalized by the number of times the previous solutions were shown'''\n",
    "    n = num_histview(x)\n",
    "    if n == 0:\n",
    "        return -1\n",
    "    else:\n",
    "        return 1.0 * num_histload(x) / n\n",
    "\n",
    "# Evaluation Actions\n",
    "\n",
    "\n",
    "def num_submitselect(x):\n",
    "    '''number of times the current solution is selected for submission'''\n",
    "    return x['object'].isin(['submit (disabled)']).sum()\n",
    "\n",
    "\n",
    "def num_histview(x):\n",
    "    '''number of times the player opens to view the solutions history'''\n",
    "    return x['object'].isin(['compare (enabled)']).sum()\n",
    "\n",
    "\n",
    "def num_histnext(x):\n",
    "    '''number of times the player chooses to view the next solution in the solutions history'''\n",
    "    return x['object'].isin(['next (enabled)']).sum()\n",
    "\n",
    "\n",
    "def num_histprev(x):\n",
    "    '''number of times the player chooses to view the previous solution in the solutions history'''\n",
    "    return x['object'].isin(['previous (enabled)']).sum()\n",
    "\n",
    "\n",
    "def num_histnavi(x):\n",
    "    '''number of times the player chooses to navigate (view next or view previous)  \n",
    "    among the solutions in the solutions history'''\n",
    "    return num_histnext(x) + num_histprev(x)\n",
    "\n",
    "# Other\n",
    "\n",
    "\n",
    "def num_help(x):\n",
    "    '''number of times a player opened help/info window'''\n",
    "    return x['object'].isin(['help (enabled)']).sum()\n",
    "\n",
    "\n",
    "def last_valid_value(x):\n",
    "    '''the error of the last completed attempt'''\n",
    "    return x.iloc[-1] if not np.isnan(x.iloc[-1]) else x.iloc[-2]\n",
    "\n",
    "\n",
    "def series_range(x):\n",
    "    #     x = x[1:]\n",
    "    '''maximum - minimum of the sequence'''\n",
    "    return np.max(x) - np.min(x)\n",
    "\n",
    "\n",
    "def series_slope(x):\n",
    "    #     x = x[1:]\n",
    "    '''(simple linear) regression coefficient (i.e. slope) of the sequence'''\n",
    "    x = x[~np.isnan(x)]\n",
    "    if len(np.unique(x)) == 1:\n",
    "        return 0.0\n",
    "    y = np.arange(len(x))\n",
    "    slope, intercept, r_value, p_value, std_err = stats.linregress(x, y)\n",
    "    return slope\n",
    "\n",
    "\n",
    "def series_noninc(x):\n",
    "    '''True if the sequence is non-increasing, False otherwise.'''\n",
    "    for i in range(len(x) - 1):\n",
    "        if x.iloc[i+1] > x.iloc[i]:\n",
    "            return False\n",
    "    return True\n",
    "\n",
    "\n",
    "def compute_features(grouped, functions=[], df=None, inplace=False, insert_index=None):\n",
    "    '''Computes features on a grouped object from a list of functions'''\n",
    "    if df is not None and not inplace:\n",
    "        df = df.copy()\n",
    "\n",
    "    if insert_index is not None:\n",
    "        functions.reverse()\n",
    "\n",
    "    for i, entry in enumerate(functions):\n",
    "        s = entry.__name__ if hasattr(entry, '__name__') else entry\n",
    "        print('Computing feature {}'.format(s))\n",
    "\n",
    "        if callable(entry):  # if it is a function\n",
    "            func = entry\n",
    "            result_column = func.__name__\n",
    "\n",
    "            if df is None and i == 0:\n",
    "                df = grouped.apply(func).to_frame(func.__name__)\n",
    "            else:\n",
    "                i = len(df.columns) if insert_index is None else insert_index\n",
    "                df.insert(i, result_column, grouped.apply(func))\n",
    "\n",
    "        elif type(entry) is list:\n",
    "            applied_column, prefix_func_pairs = entry\n",
    "\n",
    "            if insert_index is not None:\n",
    "                prefix_func_pairs.reverse()\n",
    "\n",
    "            for prefix, func in prefix_func_pairs:\n",
    "                result_column = '{}_{}'.format(prefix, applied_column)\n",
    "\n",
    "                i = len(df.columns) if insert_index is None else insert_index\n",
    "\n",
    "                if df is None and i == 0:\n",
    "                    df = grouped[applied_column].apply(\n",
    "                        func).to_frame(result_column)\n",
    "                else:\n",
    "                    df.insert(i, result_column,\n",
    "                              grouped[applied_column].apply(func))\n",
    "\n",
    "    return df"
   ]
  },
  {
   "cell_type": "markdown",
   "metadata": {},
   "source": [
    "### Compute attempt level features."
   ]
  },
  {
   "cell_type": "code",
   "execution_count": null,
   "metadata": {
    "scrolled": false
   },
   "outputs": [],
   "source": [
    "# Compute task features.\n",
    "attempt_features = [\n",
    "    cost, abs_error, error,\n",
    "    # Attempt/Turn/Event Counts\n",
    "    num_turn, num_action,\n",
    "    # Time Related\n",
    "    duration, start, end,\n",
    "#     # Edit Action Related\n",
    "    num_add, num_del, num_edit, freq_add, freq_del, num_histload, freq_histload,\n",
    "#     # Evaluation Action Related\n",
    "#     num_submitselect, num_histview, num_histnext, num_histprev, num_histnavi,\n",
    "#     # Other\n",
    "#     num_help,\n",
    "    success,\n",
    "    ]\n",
    "tables['attempt'] = compute_features(levels['attempt'], attempt_features)\n",
    "\n",
    "# Display the task features table.\n",
    "tables['attempt'] #.describe()"
   ]
  },
  {
   "cell_type": "markdown",
   "metadata": {},
   "source": [
    "### Compute task level features."
   ]
  },
  {
   "cell_type": "code",
   "execution_count": null,
   "metadata": {
    "scrolled": false
   },
   "outputs": [],
   "source": [
    "# Compute task features.\n",
    "task_features = [\n",
    "    success,\n",
    "    # Attempt/Turn/Event Counts\n",
    "    num_attempt, avg_turn, avg_action_per_turn, num_turn, num_action,\n",
    "    # Time Related\n",
    "    duration,\n",
    "    # Edit Action Related\n",
    "    # num_add, num_del, \n",
    "    num_edit, freq_add, \n",
    "    #freq_del, num_histload, \n",
    "    freq_histload,\n",
    "    # Evaluation Action Related\n",
    "    num_submitselect, \n",
    "    num_histview,\n",
    "    # num_histnext, num_histprev, num_histnavi,\n",
    "    # Other\n",
    "    num_help,\n",
    "    ]\n",
    "tables['task'] = compute_features(levels['task'], task_features)\n",
    "\n",
    "attempt_to_task_features = [\n",
    "    ['error', [\n",
    "        ('last', last_valid_value),\n",
    "        ('max', np.max),\n",
    "        ('min', np.min),\n",
    "        ('range', series_range),\n",
    "        ('avg', np.mean),\n",
    "        ('std', np.std), \n",
    "        ('noninc', series_noninc),\n",
    "        ('slope', series_slope),\n",
    "        ]\n",
    "    ], \n",
    "]\n",
    "grouped = tables['attempt'].reset_index().groupby(['corpus_no', 'team_no'])\n",
    "insert_index = 0\n",
    "compute_features(grouped, attempt_to_task_features, df=tables['task'], \n",
    "                 insert_index=insert_index, inplace=True)\n",
    "\n",
    "# Display the task features table.\n",
    "tables['task']"
   ]
  },
  {
   "cell_type": "markdown",
   "metadata": {},
   "source": [
    "### Compute turn level features."
   ]
  },
  {
   "cell_type": "code",
   "execution_count": null,
   "metadata": {},
   "outputs": [],
   "source": [
    "# Compute task features.\n",
    "turn_features = [\n",
    "    # Attempt/Turn/Event Counts\n",
    "    num_action,\n",
    "    # Time Related\n",
    "    duration,\n",
    "#     # Edit Action Related\n",
    "    num_add, num_del, num_edit, freq_add, freq_del, # num_histload, freq_histload,\n",
    "#     # Evaluation Action Related\n",
    "#     num_submitselect, num_histview, num_histnext, num_histprev, num_histnavi,\n",
    "#     # Other\n",
    "#     num_help,\n",
    "    ]\n",
    "tables['turn'] = compute_features(levels['turn'], turn_features)\n",
    "\n",
    "# Display the task features table.\n",
    "# tables['turn'] #.describe()"
   ]
  },
  {
   "cell_type": "markdown",
   "metadata": {},
   "source": [
    "### Compute corpus level features."
   ]
  },
  {
   "cell_type": "code",
   "execution_count": null,
   "metadata": {
    "scrolled": false
   },
   "outputs": [],
   "source": [
    "corpus_features = [num_task] #num_success] #, freq_success]\n",
    "\n",
    "grouped = tables['task'].reset_index().groupby('corpus_no')\n",
    "tables['corpus'] = compute_features(grouped, corpus_features)\n",
    "\n",
    "features = tables['task'].columns\n",
    "# features = ['num_attempt', 'num_turn', 'num_action', 'num_add', 'num_del', 'success']\n",
    "\n",
    "df = tables['task'][features].groupby('corpus_no').agg([np.sum, np.mean, np.std, np.max, np.min])\n",
    "df.columns = ['_'.join(reversed(col)).strip() for col in df.columns.values]\n",
    "\n",
    "tables['corpus'] = pd.concat([tables['corpus'], df], axis=1)\n",
    "\n",
    "column_map = {\n",
    "    'sum_success':'num_success', \n",
    "    'mean_success':'freq_success',\n",
    "}\n",
    "tables['corpus'].columns = [column_map[c] if c in column_map else c for c in tables['corpus'].columns]\n",
    "tables['corpus'] = tables['corpus'].T\n",
    "tables['corpus']"
   ]
  },
  {
   "cell_type": "markdown",
   "metadata": {},
   "source": [
    "### Draw heatmaps."
   ]
  },
  {
   "cell_type": "code",
   "execution_count": null,
   "metadata": {},
   "outputs": [],
   "source": [
    "from scipy.stats import pearsonr\n",
    "\n",
    "def calculate_pvalues(df):\n",
    "    df = df.dropna()._get_numeric_data()\n",
    "    dfcols = pd.DataFrame(columns=df.columns)\n",
    "    pvalues = dfcols.transpose().join(dfcols, how='outer')\n",
    "    for r in df.columns:\n",
    "        for c in df.columns:\n",
    "            pvalues[r][c] = pearsonr(df[r], df[c])[1]\n",
    "    return pvalues\n",
    "\n",
    "\n",
    "p_thres = 0.05\n",
    "\n",
    "df = tables['task']\n",
    "pvalues_df = calculate_pvalues(df)"
   ]
  },
  {
   "cell_type": "code",
   "execution_count": null,
   "metadata": {
    "scrolled": false
   },
   "outputs": [],
   "source": [
    "df = tables['task']\n",
    "corr = df.corr(method='pearson')\n",
    "\n",
    "corr = corr.round(2)\n",
    "fig, ax = plt.subplots(figsize=(16, 8)) \n",
    "annot_kws = {} \n",
    "\n",
    "sns.set(font_scale=1.1)            \n",
    "sns_plot_1 = sns.heatmap(corr, \n",
    "            xticklabels=corr.columns,\n",
    "            yticklabels=corr.columns,\n",
    "            cmap='coolwarm', \n",
    "            robust=True,\n",
    "            annot=True,\n",
    "            fmt='.2f',\n",
    "            annot_kws=annot_kws,\n",
    "            linewidth=1, #1.5,\n",
    "\n",
    "            ax=ax)\n",
    "\n",
    "from matplotlib.patches import Rectangle\n",
    "\n",
    "for i, annot in enumerate(ax.texts):\n",
    "    row = i % len(pvalues_df)\n",
    "    col = int(i / len(pvalues_df))\n",
    "    p_val = pvalues_df.iloc[row, col]\n",
    "    annot.set_text('{:.2f}'.format(np.abs(float(annot.get_text()))))\n",
    "    if 1 - float(annot.get_text()) < 0.001:\n",
    "        annot.set_visible(False)\n",
    "    elif p_val < p_thres:\n",
    "        annot.set_weight('bold')\n",
    "        annot.set_text('{}'.format(annot.get_text()))\n",
    "\n",
    "        ax.add_patch(Rectangle((row, col), 1, 1, fill=False, edgecolor='black', lw=2)) #blue\n",
    "\n",
    "print('Significant (p < 0.05) values (without correction for multiple testing) are in bold and highlighted with a border\"')"
   ]
  },
  {
   "cell_type": "markdown",
   "metadata": {},
   "source": [
    "### Export a separate table for each level."
   ]
  },
  {
   "cell_type": "code",
   "execution_count": null,
   "metadata": {},
   "outputs": [],
   "source": [
    "tables.keys()\n",
    "\n",
    "for key, data in tables.items():\n",
    "    if key in ['data']:\n",
    "        continue\n",
    "        \n",
    "    file = 'justhink19_log_features_{}_level.csv'.format(key)\n",
    "    file = intermediate_dir.joinpath(file)\n",
    "    \n",
    "    data.to_csv(str(file))\n",
    "    \n",
    "    print(key, 'table is exported to', file)"
   ]
  }
 ],
 "metadata": {
  "kernelspec": {
   "display_name": "Python 3",
   "language": "python",
   "name": "python3"
  },
  "language_info": {
   "codemirror_mode": {
    "name": "ipython",
    "version": 3
   },
   "file_extension": ".py",
   "mimetype": "text/x-python",
   "name": "python",
   "nbconvert_exporter": "python",
   "pygments_lexer": "ipython3",
   "version": "3.8.5"
  },
  "toc": {
   "base_numbering": 1,
   "nav_menu": {},
   "number_sections": false,
   "sideBar": true,
   "skip_h1_title": false,
   "title_cell": "Table of Contents",
   "title_sidebar": "Contents",
   "toc_cell": false,
   "toc_position": {
    "height": "calc(100% - 180px)",
    "left": "10px",
    "top": "150px",
    "width": "274.2px"
   },
   "toc_section_display": true,
   "toc_window_display": true
  }
 },
 "nbformat": 4,
 "nbformat_minor": 2
}
