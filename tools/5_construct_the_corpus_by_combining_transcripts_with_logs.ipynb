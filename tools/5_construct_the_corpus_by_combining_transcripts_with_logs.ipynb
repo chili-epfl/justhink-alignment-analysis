{
 "cells": [
  {
   "cell_type": "markdown",
   "metadata": {},
   "source": [
    "This notebook merges transcripts with event logs to have a combined dialogue and actions corpus, to be processed e.g. to detect follow-up actions."
   ]
  },
  {
   "cell_type": "code",
   "execution_count": 1,
   "metadata": {},
   "outputs": [],
   "source": [
    "import pathlib as pl\n",
    "import pandas as pd\n",
    "\n",
    "from read_utils import read_tables"
   ]
  },
  {
   "cell_type": "markdown",
   "metadata": {},
   "source": [
    "## Define paths."
   ]
  },
  {
   "cell_type": "code",
   "execution_count": 2,
   "metadata": {},
   "outputs": [],
   "source": [
    "# Inputs.\n",
    "data_dir = pl.Path('../data')\n",
    "transcripts_dir = data_dir.joinpath('transcripts')\n",
    "logs_dir = data_dir.joinpath('logs')\n",
    "\n",
    "# Outputs.\n",
    "processed_data_dir = pl.Path('../processed_data')\n",
    "corpus_dir = processed_data_dir.joinpath('corpus')\n",
    "\n",
    "for d in [corpus_dir]:\n",
    "    if not d.exists():\n",
    "        d.mkdir(parents=True)\n",
    "        print('Created {}'.format(d))"
   ]
  },
  {
   "cell_type": "markdown",
   "metadata": {},
   "source": [
    "## Load data."
   ]
  },
  {
   "cell_type": "markdown",
   "metadata": {},
   "source": [
    "### Load logs."
   ]
  },
  {
   "cell_type": "code",
   "execution_count": 3,
   "metadata": {},
   "outputs": [
    {
     "name": "stdout",
     "output_type": "stream",
     "text": [
      "Reading log files from ../data/logs.\n",
      "log 39 files found.\n",
      "File justhink19_log_06 belongs to team  6\n",
      "File justhink19_log_07 belongs to team  7\n",
      "File justhink19_log_08 belongs to team  8\n",
      "File justhink19_log_09 belongs to team  9\n",
      "File justhink19_log_10 belongs to team 10\n",
      "File justhink19_log_11 belongs to team 11\n",
      "File justhink19_log_12 belongs to team 12\n",
      "File justhink19_log_14 belongs to team 14\n",
      "File justhink19_log_15 belongs to team 15\n",
      "File justhink19_log_16 belongs to team 16\n",
      "File justhink19_log_17 belongs to team 17\n",
      "File justhink19_log_18 belongs to team 18\n",
      "File justhink19_log_19 belongs to team 19\n",
      "File justhink19_log_20 belongs to team 20\n",
      "File justhink19_log_21 belongs to team 21\n",
      "File justhink19_log_22 belongs to team 22\n",
      "File justhink19_log_23 belongs to team 23\n",
      "File justhink19_log_25 belongs to team 25\n",
      "File justhink19_log_26 belongs to team 26\n",
      "File justhink19_log_27 belongs to team 27\n",
      "File justhink19_log_28 belongs to team 28\n",
      "File justhink19_log_29 belongs to team 29\n",
      "File justhink19_log_30 belongs to team 30\n",
      "File justhink19_log_31 belongs to team 31\n",
      "File justhink19_log_32 belongs to team 32\n",
      "File justhink19_log_33 belongs to team 33\n",
      "File justhink19_log_34 belongs to team 34\n",
      "File justhink19_log_35 belongs to team 35\n",
      "File justhink19_log_36 belongs to team 36\n",
      "File justhink19_log_37 belongs to team 37\n",
      "File justhink19_log_38 belongs to team 38\n",
      "File justhink19_log_39 belongs to team 39\n",
      "File justhink19_log_40 belongs to team 40\n",
      "File justhink19_log_41 belongs to team 41\n",
      "File justhink19_log_42 belongs to team 42\n",
      "File justhink19_log_44 belongs to team 44\n",
      "File justhink19_log_45 belongs to team 45\n",
      "File justhink19_log_46 belongs to team 46\n",
      "File justhink19_log_47 belongs to team 47\n",
      "Log of  6 contains  100 events\n",
      "Log of  7 contains  420 events\n",
      "Log of  8 contains  263 events\n",
      "Log of  9 contains  266 events\n",
      "Log of 10 contains  300 events\n",
      "Log of 11 contains  343 events\n",
      "Log of 12 contains  386 events\n",
      "Log of 14 contains  166 events\n",
      "Log of 15 contains  322 events\n",
      "Log of 16 contains  171 events\n",
      "Log of 17 contains  126 events\n",
      "Log of 18 contains  147 events\n",
      "Log of 19 contains  252 events\n",
      "Log of 20 contains  146 events\n",
      "Log of 21 contains  188 events\n",
      "Log of 22 contains  247 events\n",
      "Log of 23 contains  394 events\n",
      "Log of 25 contains  142 events\n",
      "Log of 26 contains  205 events\n",
      "Log of 27 contains  221 events\n",
      "Log of 28 contains  142 events\n",
      "Log of 29 contains  226 events\n",
      "Log of 30 contains  307 events\n",
      "Log of 31 contains  201 events\n",
      "Log of 32 contains  221 events\n",
      "Log of 33 contains  156 events\n",
      "Log of 34 contains  196 events\n",
      "Log of 35 contains  286 events\n",
      "Log of 36 contains  210 events\n",
      "Log of 37 contains  180 events\n",
      "Log of 38 contains  289 events\n",
      "Log of 39 contains  182 events\n",
      "Log of 40 contains  233 events\n",
      "Log of 41 contains  113 events\n",
      "Log of 42 contains  140 events\n",
      "Log of 44 contains  357 events\n",
      "Log of 45 contains  129 events\n",
      "Log of 46 contains  138 events\n",
      "Log of 47 contains  246 events\n"
     ]
    }
   ],
   "source": [
    "log_dfs = read_tables(logs_dir, form='log')"
   ]
  },
  {
   "cell_type": "markdown",
   "metadata": {},
   "source": [
    "### Load transcripts."
   ]
  },
  {
   "cell_type": "code",
   "execution_count": 4,
   "metadata": {},
   "outputs": [
    {
     "name": "stdout",
     "output_type": "stream",
     "text": [
      "Reading transcript files from ../data/transcripts.\n",
      "transcript 10 files found.\n",
      "File justhink19_transcript_07 belongs to team  7\n",
      "File justhink19_transcript_08 belongs to team  8\n",
      "File justhink19_transcript_09 belongs to team  9\n",
      "File justhink19_transcript_10 belongs to team 10\n",
      "File justhink19_transcript_11 belongs to team 11\n",
      "File justhink19_transcript_17 belongs to team 17\n",
      "File justhink19_transcript_18 belongs to team 18\n",
      "File justhink19_transcript_20 belongs to team 20\n",
      "File justhink19_transcript_28 belongs to team 28\n",
      "File justhink19_transcript_47 belongs to team 47\n",
      "Transcript of  7 has  639 utterances\n",
      "Transcript of  8 has  669 utterances\n",
      "Transcript of  9 has  810 utterances\n",
      "Transcript of 10 has  469 utterances\n",
      "Transcript of 11 has  567 utterances\n",
      "Transcript of 17 has  325 utterances\n",
      "Transcript of 18 has  359 utterances\n",
      "Transcript of 20 has  507 utterances\n",
      "Transcript of 28 has  348 utterances\n",
      "Transcript of 47 has  396 utterances\n"
     ]
    }
   ],
   "source": [
    "transcript_dfs = read_tables(transcripts_dir, form='transcript')"
   ]
  },
  {
   "cell_type": "code",
   "execution_count": 5,
   "metadata": {
    "scrolled": true
   },
   "outputs": [
    {
     "data": {
      "text/html": [
       "<div>\n",
       "<style scoped>\n",
       "    .dataframe tbody tr th:only-of-type {\n",
       "        vertical-align: middle;\n",
       "    }\n",
       "\n",
       "    .dataframe tbody tr th {\n",
       "        vertical-align: top;\n",
       "    }\n",
       "\n",
       "    .dataframe thead th {\n",
       "        text-align: right;\n",
       "    }\n",
       "</style>\n",
       "<table border=\"1\" class=\"dataframe\">\n",
       "  <thead>\n",
       "    <tr style=\"text-align: right;\">\n",
       "      <th></th>\n",
       "      <th>team_no</th>\n",
       "      <th>attempt_no</th>\n",
       "      <th>turn_no</th>\n",
       "      <th>utterance_no</th>\n",
       "      <th>start</th>\n",
       "      <th>end</th>\n",
       "      <th>subject</th>\n",
       "      <th>verb</th>\n",
       "      <th>object</th>\n",
       "    </tr>\n",
       "  </thead>\n",
       "  <tbody>\n",
       "    <tr>\n",
       "      <th>0</th>\n",
       "      <td>28</td>\n",
       "      <td>1</td>\n",
       "      <td>1</td>\n",
       "      <td>-1</td>\n",
       "      <td>0.296</td>\n",
       "      <td>0.296</td>\n",
       "      <td>R</td>\n",
       "      <td>shows</td>\n",
       "      <td>observe gesture</td>\n",
       "    </tr>\n",
       "    <tr>\n",
       "      <th>1</th>\n",
       "      <td>28</td>\n",
       "      <td>1</td>\n",
       "      <td>1</td>\n",
       "      <td>-1</td>\n",
       "      <td>0.365</td>\n",
       "      <td>0.365</td>\n",
       "      <td>R</td>\n",
       "      <td>says</td>\n",
       "      <td>so, ann and bob, let's start building the trac...</td>\n",
       "    </tr>\n",
       "    <tr>\n",
       "      <th>2</th>\n",
       "      <td>28</td>\n",
       "      <td>1</td>\n",
       "      <td>1</td>\n",
       "      <td>-1</td>\n",
       "      <td>33.409</td>\n",
       "      <td>33.409</td>\n",
       "      <td>A</td>\n",
       "      <td>presses</td>\n",
       "      <td>help (enabled)</td>\n",
       "    </tr>\n",
       "    <tr>\n",
       "      <th>3</th>\n",
       "      <td>28</td>\n",
       "      <td>1</td>\n",
       "      <td>1</td>\n",
       "      <td>0</td>\n",
       "      <td>40.000</td>\n",
       "      <td>41.161</td>\n",
       "      <td>A</td>\n",
       "      <td>says</td>\n",
       "      <td>okay , so</td>\n",
       "    </tr>\n",
       "    <tr>\n",
       "      <th>4</th>\n",
       "      <td>28</td>\n",
       "      <td>1</td>\n",
       "      <td>1</td>\n",
       "      <td>1</td>\n",
       "      <td>40.580</td>\n",
       "      <td>45.036</td>\n",
       "      <td>B</td>\n",
       "      <td>says</td>\n",
       "      <td>so we have to connect all the places with trac...</td>\n",
       "    </tr>\n",
       "  </tbody>\n",
       "</table>\n",
       "</div>"
      ],
      "text/plain": [
       "   team_no  attempt_no  turn_no  utterance_no   start     end subject  \\\n",
       "0       28           1        1            -1   0.296   0.296       R   \n",
       "1       28           1        1            -1   0.365   0.365       R   \n",
       "2       28           1        1            -1  33.409  33.409       A   \n",
       "3       28           1        1             0  40.000  41.161       A   \n",
       "4       28           1        1             1  40.580  45.036       B   \n",
       "\n",
       "      verb                                             object  \n",
       "0    shows                                    observe gesture  \n",
       "1     says  so, ann and bob, let's start building the trac...  \n",
       "2  presses                                     help (enabled)  \n",
       "3     says                                          okay , so  \n",
       "4     says  so we have to connect all the places with trac...  "
      ]
     },
     "execution_count": 5,
     "metadata": {},
     "output_type": "execute_result"
    }
   ],
   "source": [
    "def combine_log_with_transcript(log_df, transcript_df):\n",
    "    '''merge a log and a transcript table'''\n",
    "    log_df = log_df.copy()\n",
    "    log_df['start'] = log_df['time']\n",
    "    log_df['end'] = log_df['time']\n",
    "    log_df.drop(columns=['time', 'event_no'], inplace=True)\n",
    "\n",
    "    transcript_df = transcript_df.copy()\n",
    "    transcript_df['verb'] = 'says'\n",
    "    mapper = {'interlocutor': 'subject', 'utterance': 'object'}\n",
    "    transcript_df.rename(columns=mapper, inplace=True)\n",
    "    # transcript_df.drop(columns=['utterance_no'], inplace=True)\n",
    "\n",
    "    dfs = [log_df, transcript_df]\n",
    "    df = pd.concat(dfs, ignore_index=True)\n",
    "    df.sort_values('start', inplace=True)\n",
    "    df.reset_index(inplace=True, drop=True)\n",
    "\n",
    "    # Fill the unknown attempt no etc. coming from the transcript\n",
    "    # first backward to propogate new attempt/turn to utterances in that turn, \n",
    "    # and then forward.\n",
    "    cols = ['team_no', 'attempt_no', 'turn_no']\n",
    "    df[cols] = df[cols].fillna(method='bfill')\n",
    "    df[cols] = df[cols].fillna(method='ffill')\n",
    "    \n",
    "    df.fillna(value={'utterance_no': -1}, inplace=True)\n",
    "    df.utterance_no = df.utterance_no.astype(int)\n",
    "    # Make sure there are no NaNs.\n",
    "    assert not df.isnull().values.any()\n",
    "\n",
    "    # Convert attempt no etc. to integer types.\n",
    "    for c in cols:\n",
    "        df[c] = df[c].astype(int)\n",
    "\n",
    "    # Reorder the columns.\n",
    "    cols = ['team_no', 'attempt_no', 'turn_no', 'utterance_no', \n",
    "            'start', 'end',\n",
    "            'subject', 'verb', 'object',\n",
    "            ]\n",
    "    df = df[cols]\n",
    "    \n",
    "    return df\n",
    "\n",
    "\n",
    "# Try.\n",
    "team_no = 28\n",
    "log_df = log_dfs[team_no]\n",
    "transcript_df = transcript_dfs[team_no]\n",
    "\n",
    "combine_log_with_transcript(log_df, transcript_df).head()"
   ]
  },
  {
   "cell_type": "markdown",
   "metadata": {},
   "source": [
    "## Combine the transcript and logs for each team."
   ]
  },
  {
   "cell_type": "code",
   "execution_count": 6,
   "metadata": {
    "scrolled": true
   },
   "outputs": [
    {
     "name": "stdout",
     "output_type": "stream",
     "text": [
      "Process team  7 ...\n",
      "Process team  8 ...\n",
      "Process team  9 ...\n",
      "Process team 10 ...\n",
      "Process team 11 ...\n",
      "Process team 17 ...\n",
      "Process team 18 ...\n",
      "Process team 20 ...\n",
      "Process team 28 ...\n",
      "Process team 47 ...\n",
      "Done!\n"
     ]
    }
   ],
   "source": [
    "corpus_dfs = dict()\n",
    "for team_no in sorted(transcript_dfs):\n",
    "    print('Process team {:2d} ...'.format(team_no))\n",
    "\n",
    "    log_df = log_dfs[team_no]\n",
    "    transcript_df = transcript_dfs[team_no]\n",
    "    df = combine_log_with_transcript(log_df, transcript_df)\n",
    "\n",
    "    corpus_dfs[team_no] = df\n",
    "\n",
    "print('Done!')"
   ]
  },
  {
   "cell_type": "markdown",
   "metadata": {},
   "source": [
    "## Export the corpus tables to files."
   ]
  },
  {
   "cell_type": "code",
   "execution_count": 7,
   "metadata": {},
   "outputs": [
    {
     "name": "stdout",
     "output_type": "stream",
     "text": [
      "Save team  7 to ../processed_data/corpus/justhink19_corpus_07.csv\n",
      "Save team  8 to ../processed_data/corpus/justhink19_corpus_08.csv\n",
      "Save team  9 to ../processed_data/corpus/justhink19_corpus_09.csv\n",
      "Save team 10 to ../processed_data/corpus/justhink19_corpus_10.csv\n",
      "Save team 11 to ../processed_data/corpus/justhink19_corpus_11.csv\n",
      "Save team 17 to ../processed_data/corpus/justhink19_corpus_17.csv\n",
      "Save team 18 to ../processed_data/corpus/justhink19_corpus_18.csv\n",
      "Save team 20 to ../processed_data/corpus/justhink19_corpus_20.csv\n",
      "Save team 28 to ../processed_data/corpus/justhink19_corpus_28.csv\n",
      "Save team 47 to ../processed_data/corpus/justhink19_corpus_47.csv\n"
     ]
    }
   ],
   "source": [
    "for team_no in sorted(corpus_dfs):\n",
    "    # Make filename.\n",
    "    file = corpus_dir.joinpath(\n",
    "        'justhink19_corpus_{:02d}.csv'.format(team_no))\n",
    "    print('Save team {:2d} to {}'.format(team_no, file))\n",
    "    \n",
    "    # Export to file.\n",
    "    corpus_dfs[team_no].to_csv(\n",
    "        file, sep='\\t', float_format='%.3f', index=False)"
   ]
  }
 ],
 "metadata": {
  "kernelspec": {
   "display_name": "myenv",
   "language": "python",
   "name": "myenv"
  },
  "language_info": {
   "codemirror_mode": {
    "name": "ipython",
    "version": 3
   },
   "file_extension": ".py",
   "mimetype": "text/x-python",
   "name": "python",
   "nbconvert_exporter": "python",
   "pygments_lexer": "ipython3",
   "version": "3.8.5"
  },
  "toc": {
   "base_numbering": 1,
   "nav_menu": {},
   "number_sections": false,
   "sideBar": true,
   "skip_h1_title": false,
   "title_cell": "Table of Contents",
   "title_sidebar": "Contents",
   "toc_cell": false,
   "toc_position": {
    "height": "calc(100% - 180px)",
    "left": "10px",
    "top": "150px",
    "width": "264.098px"
   },
   "toc_section_display": true,
   "toc_window_display": true
  }
 },
 "nbformat": 4,
 "nbformat_minor": 4
}
