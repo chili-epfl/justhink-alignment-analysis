{
 "cells": [
  {
   "cell_type": "code",
   "execution_count": 1,
   "metadata": {},
   "outputs": [],
   "source": [
    "from read_utils import read_tables\n",
    "import pickle\n",
    "\n",
    "import pathlib as pl\n",
    "import pandas as pd\n",
    "import numpy as np\n",
    "\n",
    "import scipy  # to perform Mann-Whitney U Test\n",
    "from cliffsDelta import cliffsDelta  # to estimate effect size by Cliff's Delta\n",
    "\n",
    "import matplotlib.pyplot as plt\n",
    "import matplotlib.ticker as mtick\n",
    "from matplotlib.ticker import FuncFormatter\n",
    "\n",
    "import seaborn as sns\n",
    "sns.set_theme(style=\"whitegrid\")"
   ]
  },
  {
   "cell_type": "markdown",
   "metadata": {},
   "source": [
    "## Define paths."
   ]
  },
  {
   "cell_type": "code",
   "execution_count": 2,
   "metadata": {},
   "outputs": [],
   "source": [
    "# Inputs.\n",
    "# data_dir = pl.Path('../data')\n",
    "processed_data_dir = pl.Path('../processed_data')\n",
    "log_features_file = processed_data_dir.joinpath(\n",
    "    'log_features/justhink19_log_features_task_level.csv')\n",
    "learning_file = processed_data_dir.joinpath(\n",
    "    'learning_features/justhink19_learning_features.csv')\n",
    "\n",
    "\n",
    "annot_corpus_dir = processed_data_dir.joinpath('annotated_corpus')\n",
    "annot_corpus_pickle_file = annot_corpus_dir.joinpath(\n",
    "    'justhing19_annotated_corpus.pickle')\n",
    "\n",
    "routines_dir = processed_data_dir.joinpath('routines')\n",
    "\n",
    "# Outputs.\n",
    "plots_dir = pl.Path('../figures')\n",
    "\n",
    "\n",
    "# Create output directories if they do not exist.\n",
    "for folder in [plots_dir]:\n",
    "    if not folder.exists():\n",
    "        folder.mkdir(parents=True)"
   ]
  },
  {
   "cell_type": "markdown",
   "metadata": {
    "code_folding": []
   },
   "source": [
    "## Load data."
   ]
  },
  {
   "cell_type": "markdown",
   "metadata": {},
   "source": [
    "### Read learning data."
   ]
  },
  {
   "cell_type": "code",
   "execution_count": 3,
   "metadata": {},
   "outputs": [],
   "source": [
    "learning_df = pd.read_csv(learning_file, index_col='team_no')\n",
    "\n",
    "# learning_df"
   ]
  },
  {
   "cell_type": "markdown",
   "metadata": {},
   "source": [
    "### Read task features data (at the team level)."
   ]
  },
  {
   "cell_type": "code",
   "execution_count": 4,
   "metadata": {},
   "outputs": [],
   "source": [
    "task_df = pd.read_csv(log_features_file, index_col='team_no')\n",
    "\n",
    "# task_df"
   ]
  },
  {
   "cell_type": "markdown",
   "metadata": {},
   "source": [
    "### Read annotated corpus (of dialogue and actions)."
   ]
  },
  {
   "cell_type": "code",
   "execution_count": 5,
   "metadata": {},
   "outputs": [],
   "source": [
    "with annot_corpus_pickle_file.open('rb') as handle:\n",
    "    corpus_dfs = pickle.load(handle)"
   ]
  },
  {
   "cell_type": "markdown",
   "metadata": {},
   "source": [
    "### Read routine tables."
   ]
  },
  {
   "cell_type": "code",
   "execution_count": 6,
   "metadata": {},
   "outputs": [
    {
     "name": "stdout",
     "output_type": "stream",
     "text": [
      "Reading routine files from ../processed_data/routines.\n",
      "routine 10 files found.\n",
      "File justhink19_routines_07 belongs to team  7\n",
      "File justhink19_routines_08 belongs to team  8\n",
      "File justhink19_routines_09 belongs to team  9\n",
      "File justhink19_routines_10 belongs to team 10\n",
      "File justhink19_routines_11 belongs to team 11\n",
      "File justhink19_routines_17 belongs to team 17\n",
      "File justhink19_routines_18 belongs to team 18\n",
      "File justhink19_routines_20 belongs to team 20\n",
      "File justhink19_routines_28 belongs to team 28\n",
      "File justhink19_routines_47 belongs to team 47\n"
     ]
    }
   ],
   "source": [
    "routine_dfs = read_tables(routines_dir, form='routine')\n",
    "\n",
    "# routines_dfs[7].head() #['utterance_no_list']"
   ]
  },
  {
   "cell_type": "markdown",
   "metadata": {},
   "source": [
    "## Construct task success tables."
   ]
  },
  {
   "cell_type": "markdown",
   "metadata": {},
   "source": [
    "### Prepare a learning outcomes table."
   ]
  },
  {
   "cell_type": "code",
   "execution_count": 7,
   "metadata": {},
   "outputs": [
    {
     "data": {
      "text/html": [
       "<div>\n",
       "<style scoped>\n",
       "    .dataframe tbody tr th:only-of-type {\n",
       "        vertical-align: middle;\n",
       "    }\n",
       "\n",
       "    .dataframe tbody tr th {\n",
       "        vertical-align: top;\n",
       "    }\n",
       "\n",
       "    .dataframe thead th {\n",
       "        text-align: right;\n",
       "    }\n",
       "</style>\n",
       "<table border=\"1\" class=\"dataframe\">\n",
       "  <thead>\n",
       "    <tr style=\"text-align: right;\">\n",
       "      <th>Team No</th>\n",
       "      <th>7</th>\n",
       "      <th>8</th>\n",
       "      <th>9</th>\n",
       "      <th>10</th>\n",
       "      <th>11</th>\n",
       "      <th>17</th>\n",
       "      <th>18</th>\n",
       "      <th>20</th>\n",
       "      <th>28</th>\n",
       "      <th>47</th>\n",
       "    </tr>\n",
       "  </thead>\n",
       "  <tbody>\n",
       "    <tr>\n",
       "      <th>learn (%)</th>\n",
       "      <td>14.2857</td>\n",
       "      <td>-8.75</td>\n",
       "      <td>22.5</td>\n",
       "      <td>36.6667</td>\n",
       "      <td>36.6667</td>\n",
       "      <td>25</td>\n",
       "      <td>-56.25</td>\n",
       "      <td>-52.0833</td>\n",
       "      <td>0</td>\n",
       "      <td>-12.6984</td>\n",
       "    </tr>\n",
       "    <tr>\n",
       "      <th>pretests</th>\n",
       "      <td>70, 30</td>\n",
       "      <td>50, 80</td>\n",
       "      <td>50, 60</td>\n",
       "      <td>40, 50</td>\n",
       "      <td>70, 50</td>\n",
       "      <td>40, 40</td>\n",
       "      <td>40, 80</td>\n",
       "      <td>80, 30</td>\n",
       "      <td>100, 60</td>\n",
       "      <td>90, 70</td>\n",
       "    </tr>\n",
       "    <tr>\n",
       "      <th>posttests</th>\n",
       "      <td>70, 50</td>\n",
       "      <td>60, 50</td>\n",
       "      <td>60, 70</td>\n",
       "      <td>60, 70</td>\n",
       "      <td>80, 70</td>\n",
       "      <td>50, 60</td>\n",
       "      <td>10, 50</td>\n",
       "      <td>50, 10</td>\n",
       "      <td>100, 60</td>\n",
       "      <td>80, 60</td>\n",
       "    </tr>\n",
       "  </tbody>\n",
       "</table>\n",
       "</div>"
      ],
      "text/plain": [
       "Team No         7        8        9        10       11       17       18  \\\n",
       "learn (%)  14.2857    -8.75     22.5  36.6667  36.6667       25   -56.25   \n",
       "pretests    70, 30   50, 80   50, 60   40, 50   70, 50   40, 40   40, 80   \n",
       "posttests   70, 50   60, 50   60, 70   60, 70   80, 70   50, 60   10, 50   \n",
       "\n",
       "Team No         20       28       47  \n",
       "learn (%) -52.0833        0 -12.6984  \n",
       "pretests    80, 30  100, 60   90, 70  \n",
       "posttests   50, 10  100, 60   80, 60  "
      ]
     },
     "execution_count": 7,
     "metadata": {},
     "output_type": "execute_result"
    }
   ],
   "source": [
    "df = learning_df[['RLG', 'A_pretest', 'A_posttest', 'B_pretest', 'B_posttest']].copy()\n",
    "df = df[df.index.isin(corpus_dfs.keys())]\n",
    "df.insert(0, 'learn (%)', 100*df['RLG'])\n",
    "df = df.drop(['RLG'], axis=1)\n",
    "df.index.name = 'Team No'\n",
    "for prefix in ['pretest', 'posttest']:\n",
    "    df['{}s'.format(prefix)] = [\n",
    "        '{:3.0f},{:3.0f}'.format(\n",
    "            100*df.loc[t]['A_{}'.format(prefix)],\n",
    "            100*df.loc[t]['B_{}'.format(prefix)])\n",
    "        for t in df.index]\n",
    "df = df[['learn (%)', 'pretests', 'posttests']]\n",
    "learn_df = df.T\n",
    "learn_df"
   ]
  },
  {
   "cell_type": "markdown",
   "metadata": {},
   "source": [
    "### Prepare a task performance table."
   ]
  },
  {
   "cell_type": "code",
   "execution_count": 8,
   "metadata": {},
   "outputs": [
    {
     "data": {
      "text/plain": [
       "dict_keys([7, 8, 9, 10, 11, 17, 18, 20, 28, 47])"
      ]
     },
     "execution_count": 8,
     "metadata": {},
     "output_type": "execute_result"
    }
   ],
   "source": [
    "corpus_dfs.keys()"
   ]
  },
  {
   "cell_type": "code",
   "execution_count": 9,
   "metadata": {},
   "outputs": [
    {
     "data": {
      "text/html": [
       "<div>\n",
       "<style scoped>\n",
       "    .dataframe tbody tr th:only-of-type {\n",
       "        vertical-align: middle;\n",
       "    }\n",
       "\n",
       "    .dataframe tbody tr th {\n",
       "        vertical-align: top;\n",
       "    }\n",
       "\n",
       "    .dataframe thead th {\n",
       "        text-align: right;\n",
       "    }\n",
       "</style>\n",
       "<table border=\"1\" class=\"dataframe\">\n",
       "  <thead>\n",
       "    <tr style=\"text-align: right;\">\n",
       "      <th>team_no</th>\n",
       "      <th>7</th>\n",
       "      <th>8</th>\n",
       "      <th>9</th>\n",
       "      <th>10</th>\n",
       "      <th>11</th>\n",
       "      <th>17</th>\n",
       "      <th>18</th>\n",
       "      <th>20</th>\n",
       "      <th>28</th>\n",
       "      <th>47</th>\n",
       "    </tr>\n",
       "  </thead>\n",
       "  <tbody>\n",
       "    <tr>\n",
       "      <th>error (%)</th>\n",
       "      <td>13.636364</td>\n",
       "      <td>13.636364</td>\n",
       "      <td>4.545455</td>\n",
       "      <td>13.636364</td>\n",
       "      <td>4.545455</td>\n",
       "      <td>0.0</td>\n",
       "      <td>18.181818</td>\n",
       "      <td>0.0</td>\n",
       "      <td>0.0</td>\n",
       "      <td>13.636364</td>\n",
       "    </tr>\n",
       "  </tbody>\n",
       "</table>\n",
       "</div>"
      ],
      "text/plain": [
       "team_no           7          8         9          10        11   17  \\\n",
       "error (%)  13.636364  13.636364  4.545455  13.636364  4.545455  0.0   \n",
       "\n",
       "team_no           18   20   28         47  \n",
       "error (%)  18.181818  0.0  0.0  13.636364  "
      ]
     },
     "execution_count": 9,
     "metadata": {},
     "output_type": "execute_result"
    }
   ],
   "source": [
    "df = task_df[['min_error']] # .reset_index(level=0, drop=True).to_frame()\n",
    "df = df[df.index.isin(corpus_dfs.keys())]\n",
    "df['error (%)'] = 100 * df['min_error']\n",
    "df = df.drop(['min_error'], axis=1)\n",
    "perf_df = df.T\n",
    "perf_df"
   ]
  },
  {
   "cell_type": "markdown",
   "metadata": {},
   "source": [
    "### Prepare sorting orders."
   ]
  },
  {
   "cell_type": "code",
   "execution_count": 10,
   "metadata": {},
   "outputs": [
    {
     "data": {
      "text/plain": [
       "(        learn (%) pretests posttests\n",
       " Team No                             \n",
       " 18         -56.25   40, 80    10, 50\n",
       " 20       -52.0833   80, 30    50, 10\n",
       " 47       -12.6984   90, 70    80, 60\n",
       " 8           -8.75   50, 80    60, 50\n",
       " 28              0  100, 60   100, 60\n",
       " 7         14.2857   70, 30    70, 50\n",
       " 9            22.5   50, 60    60, 70\n",
       " 17             25   40, 40    50, 60\n",
       " 10        36.6667   40, 50    60, 70\n",
       " 11        36.6667   70, 50    80, 70,\n",
       " ['18', '20', '47', '8', '28', '7', '9', '17', '10', '11'],\n",
       " ['8', '28'])"
      ]
     },
     "execution_count": 10,
     "metadata": {},
     "output_type": "execute_result"
    }
   ],
   "source": [
    "df = learn_df.T.sort_values('learn (%)')\n",
    "learn_order = [str(t) for t in df.index]\n",
    "learn_seps = ['8', '28']\n",
    "df, learn_order, learn_seps"
   ]
  },
  {
   "cell_type": "code",
   "execution_count": 11,
   "metadata": {},
   "outputs": [
    {
     "data": {
      "text/plain": [
       "(         error (%)\n",
       " team_no           \n",
       " 17        0.000000\n",
       " 20        0.000000\n",
       " 28        0.000000\n",
       " 9         4.545455\n",
       " 11        4.545455\n",
       " 7        13.636364\n",
       " 8        13.636364\n",
       " 10       13.636364\n",
       " 47       13.636364\n",
       " 18       18.181818,\n",
       " ['17', '20', '28', '9', '11', '7', '8', '10', '47', '18'],\n",
       " ['28'])"
      ]
     },
     "execution_count": 11,
     "metadata": {},
     "output_type": "execute_result"
    }
   ],
   "source": [
    "df = perf_df.T.sort_values(['error (%)'])\n",
    "perf_order = [str(t) for t in df.index]\n",
    "perf_seps = ['28']\n",
    "df, perf_order, perf_seps"
   ]
  },
  {
   "cell_type": "markdown",
   "metadata": {},
   "source": [
    "## Override utterance numbers in the corpus for relinking with the routines."
   ]
  },
  {
   "cell_type": "code",
   "execution_count": 12,
   "metadata": {},
   "outputs": [],
   "source": [
    "for team_no, df in corpus_dfs.items():\n",
    "    \n",
    "    df['utterance_no'] = -1\n",
    "    \n",
    "    cond = df.subject.isin(['A', 'B']) & df.verb.isin(['says'])\n",
    "    df.loc[cond, 'utterance_no'] = range(len(df[cond]))\n",
    "    \n",
    "    corpus_dfs[team_no] = df"
   ]
  },
  {
   "cell_type": "markdown",
   "metadata": {},
   "source": [
    "## Add temporality annotations."
   ]
  },
  {
   "cell_type": "markdown",
   "metadata": {},
   "source": [
    "### Annotate the corpus with utterance positions scaled to unit interval. "
   ]
  },
  {
   "cell_type": "code",
   "execution_count": 13,
   "metadata": {},
   "outputs": [
    {
     "name": "stdout",
     "output_type": "stream",
     "text": [
      " 7: 26.4 mins\n",
      " 8: 26.2 mins\n",
      " 9: 36.0 mins\n",
      "10: 23.1 mins\n",
      "11: 26.4 mins\n",
      "17: 17.9 mins\n",
      "18: 30.6 mins\n",
      "20: 19.3 mins\n",
      "28: 11.2 mins\n",
      "47: 19.6 mins\n"
     ]
    }
   ],
   "source": [
    "for team_no, df in corpus_dfs.items():\n",
    "    duration = df.iloc[-1]['end']\n",
    "    print('{:2d}: {:.1f} mins'.format(team_no, duration/60))\n",
    "    df['scaled_start'] = df['start'] / duration\n",
    "    df['scaled_end'] = df['end'] / duration"
   ]
  },
  {
   "cell_type": "markdown",
   "metadata": {},
   "source": [
    "### Annotate the corpus with utterance positions scaled to unit interval. "
   ]
  },
  {
   "cell_type": "code",
   "execution_count": 14,
   "metadata": {},
   "outputs": [],
   "source": [
    "for team_no, df in corpus_dfs.items():\n",
    "    # Utterances are zero-based numbered (first utterance has number 0).\n",
    "    n_utterances = max(df['utterance_no']) + 1\n",
    "\n",
    "    df['scaled_utterance_no'] = [(no + 1) / n_utterances if no != -1 else -1\n",
    "                                 for no in df['utterance_no']]"
   ]
  },
  {
   "cell_type": "markdown",
   "metadata": {},
   "source": [
    "### Annotate the routines with establishment and priming positions."
   ]
  },
  {
   "cell_type": "code",
   "execution_count": 15,
   "metadata": {},
   "outputs": [
    {
     "name": "stdout",
     "output_type": "stream",
     "text": [
      "7 608\n",
      "8 624\n",
      "9 773\n",
      "10 431\n",
      "11 540\n",
      "17 297\n",
      "18 331\n",
      "20 494\n",
      "28 334\n",
      "47 355\n"
     ]
    }
   ],
   "source": [
    "def get_priming_utterance_no(df, num_utterances):\n",
    "    return [(row['utterance_no_list'][0]+1) / num_utterances\n",
    "            for i, row in df.iterrows()]\n",
    "\n",
    "\n",
    "# Annotate routine tables with establishment and priming position and times.\n",
    "# Normalise/scale as a fraction of the total number of utterances for comparison.\n",
    "for team_no, df in routine_dfs.items():\n",
    "    corpus_df = corpus_dfs[team_no]\n",
    "    df['team_no'] = team_no\n",
    "\n",
    "    # Utterances are zero-based numbered (first utterance has number 0).\n",
    "    n_utterances = max(corpus_df['utterance_no']) + 1\n",
    "    print(team_no, n_utterances)\n",
    "\n",
    "    # Retrieve the total duration.\n",
    "    duration = corpus_df.iloc[-1]['end']\n",
    "\n",
    "    # Annotate the establishment position (i.e. utterance no).\n",
    "    df['establish_no'] = df['Establishment turn']\n",
    "    # Annotate the establishment time (i.e. utterance end time).\n",
    "    df['establish_time'] = [corpus_df[corpus_df['utterance_no'] == i].iloc[0]['end']\n",
    "                            for i in df['establish_no']]\n",
    "    # Annotate establishment position and time scaled to unit interval.\n",
    "    df['scaled_establish_no'] = (df['establish_no'] + 1) / n_utterances\n",
    "    df['scaled_establish_time'] = df['establish_time'] / duration\n",
    "\n",
    "    # Annotate the priming position (i.e. utterance no).\n",
    "    df['priming_no'] = [ll[0] for ll in df['utterance_no_list']]\n",
    "    # Annotate the establishment time (i.e. utterance end time).\n",
    "    df['priming_time'] = [corpus_df[corpus_df['utterance_no'] == i].iloc[0]['end']\n",
    "                          for i in df['priming_no']]\n",
    "    # Annotate establishment position and time scaled to unit interval.\n",
    "    df['scaled_priming_no'] = (df['priming_no'] + 1) / n_utterances\n",
    "    df['scaled_priming_time'] = df['priming_time'] / duration"
   ]
  },
  {
   "cell_type": "markdown",
   "metadata": {},
   "source": [
    "### Annotate the corpus with error values upon submission."
   ]
  },
  {
   "cell_type": "code",
   "execution_count": 16,
   "metadata": {},
   "outputs": [],
   "source": [
    "def cost(x):\n",
    "    '''the sum of the edge costs of the submitted solution'''\n",
    "    submits = x[x['verb'].isin(['submits'])]\n",
    "    if len(submits) > 0:\n",
    "        return int(submits['object'].iloc[-1].split()[0].split('=')[-1])\n",
    "    else:\n",
    "        return np.nan\n",
    "    \n",
    "def error(x, opt_cost=22):\n",
    "    '''relative error, i.e. absolute error divided by the optimal cost'''\n",
    "    return 1.0 * (cost(x) - opt_cost) / opt_cost\n",
    "\n",
    "for team_no, df in corpus_dfs.items():\n",
    "    df.groupby('attempt_no')\n",
    "    df['cost'] = df.groupby(df.index).apply(cost)\n",
    "    df['error'] = df.groupby(df.index).apply(error)"
   ]
  },
  {
   "cell_type": "markdown",
   "metadata": {},
   "source": [
    "## Construct helper tables."
   ]
  },
  {
   "cell_type": "markdown",
   "metadata": {},
   "source": [
    "### Merge all of the corpus into one table."
   ]
  },
  {
   "cell_type": "code",
   "execution_count": 17,
   "metadata": {},
   "outputs": [],
   "source": [
    "l = [corpus_dfs[k]  for k in sorted(corpus_dfs)]\n",
    "all_corpus_df = pd.concat(l, ignore_index=True)\n",
    "all_corpus_df['team_no'] = all_corpus_df['team_no'].astype(str)"
   ]
  },
  {
   "cell_type": "markdown",
   "metadata": {},
   "source": [
    "### Merge all of the routine tables into one table."
   ]
  },
  {
   "cell_type": "code",
   "execution_count": 18,
   "metadata": {},
   "outputs": [],
   "source": [
    "l = [routine_dfs[k] for k in sorted(routine_dfs)]\n",
    "all_routines_df = pd.concat(l, ignore_index=True)\n",
    "all_routines_df['team_no'] = all_routines_df['team_no'].astype(str)"
   ]
  },
  {
   "cell_type": "markdown",
   "metadata": {},
   "source": [
    "# RQ1: How do the interlocutors use task specific referents? Does this link to task success?"
   ]
  },
  {
   "cell_type": "markdown",
   "metadata": {},
   "source": [
    "## H1.1: Task specific referents become routine earlier for more successful teams."
   ]
  },
  {
   "cell_type": "markdown",
   "metadata": {},
   "source": [
    "### Compute mean of medians and SD (and mean)."
   ]
  },
  {
   "cell_type": "code",
   "execution_count": 19,
   "metadata": {},
   "outputs": [
    {
     "name": "stdout",
     "output_type": "stream",
     "text": [
      "combined mean = 55.87% , combined SD = 27.5%\n",
      "mean of the medians = 58.1%\n"
     ]
    }
   ],
   "source": [
    "def compute_combined_mean_median_sd(df, of, by='team_no'):\n",
    "    # Compute combined mean, median and SD.\n",
    "    A = [np.array(l) for l in list(df.groupby(by)[of].apply(list))]\n",
    "\n",
    "    N = float(sum([i.size for i in A]))\n",
    "    mean_ = sum([i.sum() for i in A])/N\n",
    "    std_ = np.sqrt(sum([((i-mean_)**2).sum() for i in A])/N)\n",
    "    print('combined mean = {:.2%} , combined SD = {:.1%}'.format(mean_, std_))\n",
    "\n",
    "    medians = [np.median(i) for i in A]\n",
    "    mean_medians = np.mean(medians)\n",
    "    print('mean of the medians = {:.1%}'.format(mean_medians))\n",
    "    \n",
    "\n",
    "of = 'scaled_end'\n",
    "compute_combined_mean_median_sd(all_corpus_df, of=of)"
   ]
  },
  {
   "cell_type": "code",
   "execution_count": 20,
   "metadata": {
    "scrolled": false
   },
   "outputs": [],
   "source": [
    "def plot_establishment(df, x,\n",
    "                       order,\n",
    "                       seps=[],\n",
    "                       y='team_no',\n",
    "                       save=True,\n",
    "                       save_filename=None,\n",
    "                       xlabel=None,\n",
    "                       show_ylabel=True,\n",
    "                       show_yticks=True,\n",
    "                       show_perf_groups=True,\n",
    "                       fig=None, ax=None):\n",
    "    if fig is None:\n",
    "        fig, ax = plt.subplots(figsize=(12, 12))\n",
    "\n",
    "    bp = sns.boxplot(x=x, y=y,\n",
    "                     order=order,\n",
    "                     boxprops=dict(alpha=.2),\n",
    "                     data=df, ax=ax)\n",
    "\n",
    "    # Set x-axis properties.\n",
    "    ax.set_xticks(np.arange(0, 1.001, 0.1))\n",
    "    ax.set_xlim([0, 1])\n",
    "    ax.xaxis.set_major_formatter(\n",
    "        FuncFormatter(lambda x, _: '{:.0%}'.format(x)))\n",
    "    if xlabel is not None:\n",
    "        ax.set_xlabel(xlabel, fontsize=18)\n",
    "\n",
    "    # Set y-axis properties.\n",
    "    if show_ylabel:\n",
    "        ax.set_ylabel('team no', fontsize=18)\n",
    "    else:\n",
    "        ax.set_ylabel('')\n",
    "    if not show_yticks:\n",
    "        ax.set_yticks([], [])\n",
    "\n",
    "    legend = ax.get_legend()\n",
    "    if legend is not None:\n",
    "        legend.remove()\n",
    "\n",
    "    # Annotate by task performance.\n",
    "    if show_perf_groups:\n",
    "        l = [0] + seps + [1]\n",
    "        x = 1.02\n",
    "        offset = 0.02\n",
    "        labels = [('success', 'g'), ('fail', 'r')]\n",
    "        for i, (previous, current) in enumerate(zip(l, l[1:])):\n",
    "            if isinstance(previous, str):\n",
    "                previous = (order.index(previous) + 1)  /len(order)\n",
    "            if isinstance(current, str):\n",
    "                current = (order.index(current) + 1) / len(order)\n",
    "            previous += offset\n",
    "            current -= offset\n",
    "            previous, current = 1 - previous, 1 - current\n",
    "            s, c = labels[i]\n",
    "            ax.annotate(s='',\n",
    "                        xy=(x, previous),\n",
    "                        xytext=(x, current),\n",
    "                        xycoords='axes fraction',\n",
    "                        arrowprops=dict(arrowstyle='-', linewidth=3, color=c))\n",
    "            t = ax.annotate(s,\n",
    "                            xy=(x+0.01, (previous+current)/2),\n",
    "                            fontsize=16,\n",
    "                            color=c,\n",
    "                            rotation=90,\n",
    "                            xycoords='axes fraction',\n",
    "                            ha='left', va='center')\n",
    "        s = 'decreasing \\n performance  \\n (increasing error)'\n",
    "        s = '(decreasing performance)'\n",
    "        x = 1.02\n",
    "        style = '<-,head_length=0.8,head_width=0.5'\n",
    "        props = dict(arrowstyle=style, linewidth=3, color='r')\n",
    "        ax.annotate(s='',\n",
    "                    xy=(x, 0.5),\n",
    "                    xytext=(x, 0.01),\n",
    "                    xycoords='axes fraction',\n",
    "                    arrowprops=props)\n",
    "        t = ax.annotate(s,\n",
    "                        xy=(x+0.01, 0.06),\n",
    "                        fontsize=12,\n",
    "                        rotation=90,\n",
    "                        xycoords='axes fraction',\n",
    "                        ha='left', va='bottom')\n",
    "\n",
    "    if fig is not None and save:\n",
    "        if save_filename is None:\n",
    "            save_filename = 'h1_1_{}_plot.png'.format(xlabel.split()[-2])\n",
    "        export_file = plots_dir.joinpath(\n",
    "            pl.Path(save_filename).with_suffix('.png'))\n",
    "        # fig.savefig(export_file, bbox_inches='tight')\n",
    "        # print(export_file)\n",
    "\n",
    "        export_file = export_file.with_suffix('.pdf')\n",
    "        fig.savefig(export_file, bbox_inches='tight')\n",
    "        print(export_file)\n",
    "\n",
    "    return fig, ax"
   ]
  },
  {
   "cell_type": "markdown",
   "metadata": {},
   "source": [
    "### Plot establishment time distributions."
   ]
  },
  {
   "cell_type": "code",
   "execution_count": 21,
   "metadata": {
    "scrolled": false
   },
   "outputs": [
    {
     "name": "stdout",
     "output_type": "stream",
     "text": [
      "../figures/h1_1_time_plot.pdf\n"
     ]
    },
    {
     "data": {
      "image/png": "[encoded data removed]",
      "text/plain": [
       "<Figure size 864x864 with 1 Axes>"
      ]
     },
     "metadata": {},
     "output_type": "display_data"
    }
   ],
   "source": [
    "order = perf_order\n",
    "seps = perf_seps\n",
    "\n",
    "figsize = (12, 12)\n",
    "fig, ax = plt.subplots(figsize=figsize)\n",
    "\n",
    "# Plot utterances by marking their end times.\n",
    "palette = sns.color_palette()\n",
    "colors = list(palette)\n",
    "cs = [colors[0], colors[3]]\n",
    "df = all_corpus_df.copy()\n",
    "# Filter for the utterances.\n",
    "df = df[df.utterance_no != -1]\n",
    "df = df[df.subject.isin(['A', 'B'])]\n",
    "sns.stripplot(x='scaled_end', y='team_no', hue='subject',\n",
    "              order=order, jitter=0,\n",
    "              data=df, ax=ax, palette=cs, size=3,\n",
    "              dodge=True, alpha=0.2)\n",
    "\n",
    "# Annotate the submission costs on the plot.\n",
    "for team_no, _ in routine_dfs.items():\n",
    "    df = all_corpus_df.copy()\n",
    "    df = df[df.team_no == str(team_no)]\n",
    "    df = df[df.subject == 'T']\n",
    "    y = order.index(str(team_no))\n",
    "\n",
    "    for i, row in df.iterrows():\n",
    "        arrow_start, arrow_end = 0, 0\n",
    "        text_pos = row['scaled_end']\n",
    "\n",
    "        val = row['error']\n",
    "        s = '{:2.0%}'.format(val).strip('%')\n",
    "        offset = 0\n",
    "        props = dict(arrowstyle='-', alpha=0.6, linewidth=2, color='b')\n",
    "        ax.annotate(s='',\n",
    "                    xy=(text_pos, y+0.3),\n",
    "                    xytext=(text_pos, y-0.3),\n",
    "                    xycoords='data',\n",
    "                    color='green', arrowprops=props)\n",
    "        t = ax.annotate(s,\n",
    "                        xy=(text_pos, y+offset),\n",
    "                        backgroundcolor='w',\n",
    "                        fontsize=10,\n",
    "                        xycoords='data',\n",
    "                        ha='center', va='center')\n",
    "        t.set_bbox(dict(fc='w', alpha=0.9, ec='none',\n",
    "                        boxstyle='square,pad=0.05'))\n",
    "        \n",
    "# Plot the establishment box plots.\n",
    "x, xlabel = 'scaled_establish_time', 'establishment time (%)'\n",
    "fig, ax = plot_establishment(\n",
    "    all_routines_df, x=x, xlabel=xlabel,\n",
    "    seps=seps, order=order,\n",
    "    fig=fig, ax=ax)"
   ]
  },
  {
   "cell_type": "markdown",
   "metadata": {},
   "source": [
    "## H1.2: When (a) task specific referents become routine and (b) their routines are primed, they are more likely to be surrounded by hesitation phenomena for more successful teams."
   ]
  },
  {
   "cell_type": "markdown",
   "metadata": {},
   "source": [
    "### Report filler counts."
   ]
  },
  {
   "cell_type": "code",
   "execution_count": 22,
   "metadata": {},
   "outputs": [
    {
     "data": {
      "text/plain": [
       "['um', 'uh', 'hmm', 'ahh', 'oops', 'eww']"
      ]
     },
     "execution_count": 22,
     "metadata": {},
     "output_type": "execute_result"
    }
   ],
   "source": [
    "fillers = ['um', 'uh', 'hmm', 'ahh', 'oops', 'eww'] # 'mm-hmm', 'uh-uh'\n",
    "fillers"
   ]
  },
  {
   "cell_type": "code",
   "execution_count": 23,
   "metadata": {},
   "outputs": [],
   "source": [
    "for team_no, df in corpus_dfs.items():\n",
    "    df['n_fillers'] = df.object.apply(lambda x: len([t for t in x.split() if t in fillers]))"
   ]
  },
  {
   "cell_type": "code",
   "execution_count": 24,
   "metadata": {},
   "outputs": [
    {
     "name": "stdout",
     "output_type": "stream",
     "text": [
      "um 236 23.6 13.514436725220923\n",
      "uh 173 17.3 9.685556256612212\n",
      "hmm 3 0.3 0.9000000000000001\n",
      "ahh 4 0.4 0.66332495807108\n",
      "oops 4 0.4 0.66332495807108\n",
      "eww 1 0.1 0.30000000000000004\n"
     ]
    }
   ],
   "source": [
    "for filler in fillers:\n",
    "    counts = list()\n",
    "    for team_no, df in corpus_dfs.items():\n",
    "        df = df[df.subject.isin(['A', 'B'])]\n",
    "        count = sum(df.object.apply(lambda x: len(\n",
    "            [t for t in x.split() if t == filler])))\n",
    "        counts.append(count)\n",
    "\n",
    "    print(filler, np.sum(counts), np.mean(counts), np.std(counts))"
   ]
  },
  {
   "cell_type": "markdown",
   "metadata": {},
   "source": [
    "### Inspect filler distributions."
   ]
  },
  {
   "cell_type": "markdown",
   "metadata": {},
   "source": [
    "#### Make a fillers timing table."
   ]
  },
  {
   "cell_type": "code",
   "execution_count": 25,
   "metadata": {},
   "outputs": [],
   "source": [
    "# def make_with_fillers_table(contexts_df, transcript_df):\n",
    "#     with_fillers_df = transcript_df.copy()\n",
    "#     with_fillers_df.set_index('utterance_index', inplace=True)\n",
    "#     with_fillers_df['n_contexts'] = 0\n",
    "\n",
    "#     for i, row in contexts_df.iterrows():  # for each context\n",
    "#         start = row['start']\n",
    "#         end = row['end']\n",
    "#         # print(start, end, len(with_fillers_df))\n",
    "#         with_fillers_df.loc[start:end+1, 'n_contexts'] += 1 # increments context counts\n",
    "        \n",
    "#     with_fillers_df = with_fillers_df[with_fillers_df.n_fillers > 0].copy()\n",
    "#     return with_fillers_df\n",
    "\n",
    "\n",
    "# # for max_dist, dfs in context_dfs.items():\n",
    "# with_fillers_dfs = dict()\n",
    "# # max_dist = 'max_3'\n",
    "# # dfs = context_dfs[max_dist]\n",
    "\n",
    "# for task_index, contexts_df in dfs.items():\n",
    "#     transcript_df = transcript_dfs[task_index]\n",
    "#     with_fillers_df = make_with_fillers_table(contexts_df, transcript_df)\n",
    "    \n",
    "#     with_fillers_dfs[task_index] = with_fillers_df\n",
    "# #     break"
   ]
  },
  {
   "cell_type": "code",
   "execution_count": 26,
   "metadata": {},
   "outputs": [],
   "source": [
    "# all_with_fillers_df = pd.concat([with_fillers_dfs[k] for k in sorted(with_fillers_dfs)], ignore_index=True)\n",
    "# # all_with_fillers_df\n",
    "# all_with_fillers_df['context relation'] = ['in context' if n_contexts> 0 else 'free' for n_contexts in all_with_fillers_df['n_contexts']]\n",
    "\n",
    "# #  palette=\"Paired\", hue_order=[\"small\", \"big\"]"
   ]
  },
  {
   "cell_type": "markdown",
   "metadata": {},
   "source": [
    "### Perform Mann-Whitney U test and compute Cliff's delta"
   ]
  },
  {
   "cell_type": "markdown",
   "metadata": {},
   "source": [
    "#### for establishment"
   ]
  },
  {
   "cell_type": "code",
   "execution_count": 27,
   "metadata": {},
   "outputs": [],
   "source": [
    "# df = corpus_dfs[team_no]\n",
    "# filler_df = df[df.n_fillers > 0].copy()\n",
    "# filler_df"
   ]
  },
  {
   "cell_type": "code",
   "execution_count": 28,
   "metadata": {},
   "outputs": [
    {
     "name": "stdout",
     "output_type": "stream",
     "text": [
      "U is the Mann–Whitney U test statistic, where p \\< 0.05 indicates that the groups are statistically significantly different\n",
      "Cliff's delta \\> 0 indicates filler times (or equivalently utterance positions) larger than establishment times. \\< otherwise.\n",
      "filler positions vs.\\ establishment positions (sorted by increasing learning):\n",
      "For Team 18: $U = 1331.5$, $p = .18$, $\\text{Cliff's delta} = -0.10$ \\\\\n",
      "For Team 20: $U = 1146.0$, $p < .05$, $\\text{Cliff's delta} = -0.24$ \\\\\n",
      "For Team 47: $U = 1536.0$, $p < .05$, $\\text{Cliff's delta} = -0.23$ \\\\\n",
      "For Team 08: $U =  461.5$, $p < .05$, $\\text{Cliff's delta} = -0.43$ \\\\\n",
      "For Team 28: $U =  832.0$, $p < .05$, $\\text{Cliff's delta} = -0.22$ \\\\\n",
      "For Team 07: $U =  229.0$, $p < .05$, $\\text{Cliff's delta} = -0.68$ \\\\\n",
      "For Team 09: $U = 3809.0$, $p < .05$, $\\text{Cliff's delta} = 0.23$ \\\\\n",
      "For Team 17: $U =  379.5$, $p < .05$, $\\text{Cliff's delta} = -0.26$ \\\\\n",
      "For Team 10: $U =  637.5$, $p = .45$, $\\text{Cliff's delta} = 0.02$ \\\\\n",
      "For Team 11: $U =  825.0$, $p < .05$, $\\text{Cliff's delta} = 0.33$ \\\\\n"
     ]
    }
   ],
   "source": [
    "def check_effect_size(routine_col, filler_col, verbose=True):  # False):\n",
    "    for team_no in learn_df.T.sort_values('learn (%)').index:\n",
    "        routine_df = routine_dfs[team_no].copy()\n",
    "\n",
    "        # filter for the fillers of this task.\n",
    "        df = corpus_dfs[team_no].copy()\n",
    "        df = df[df.subject.isin(['A', 'B'])]\n",
    "        filler_df = df[df.n_fillers > 0]\n",
    "\n",
    "        shared_vals = routine_df[routine_col].values\n",
    "        filler_vals = filler_df[filler_col].values\n",
    "\n",
    "        x = filler_vals\n",
    "        y = shared_vals\n",
    "\n",
    "        u, pvalue = scipy.stats.mannwhitneyu(x=x, y=y)\n",
    "        thres = 0.05\n",
    "        if pvalue < thres:\n",
    "            ps = 'p < ' + '{:.2f}'.format(thres).lstrip('0')\n",
    "        else:\n",
    "            ps = 'p = ' + '{:.2f}'.format(pvalue).lstrip('0')\n",
    "\n",
    "        d, size = cliffsDelta.cliffsDelta(x, y)\n",
    "        if verbose:\n",
    "            print('For Team {:02d}: '.format(team_no), end='')\n",
    "            s = '$U = {:6.1f}$, ${}$'.format(u, ps)\n",
    "            s += r\", $\\text{Cliff's delta}\"\n",
    "            s += \" = {:.2f}$\".format(d).lstrip('0')\n",
    "            s += r' \\\\'\n",
    "            print(s)\n",
    "        \n",
    "#         return routine_df, filler_df\n",
    "#         break\n",
    "    \n",
    "print(\"U is the Mann–Whitney U test statistic, where p \\< 0.05 indicates that the groups are statistically significantly different\")\n",
    "print(\"Cliff's delta \\> 0 indicates filler times (or equivalently utterance positions) larger than establishment times. \\< otherwise.\")\n",
    "print('filler positions vs.\\ establishment positions (sorted by increasing learning):')\n",
    "routine_col, filler_col = 'scaled_establish_no', 'scaled_utterance_no'\n",
    "# # or equivalently in terms of times\n",
    "# routine_col, filler_col = 'scaled_establish_time', 'scaled_end'\n",
    "check_effect_size(routine_col, filler_col)"
   ]
  },
  {
   "cell_type": "code",
   "execution_count": 29,
   "metadata": {},
   "outputs": [],
   "source": [
    "# shared_vals = routine_df[routine_col].values\n",
    "# filler_vals = filler_df[filler_col].values\n",
    "# shared_vals[0:5], filler_vals[0:5]\n",
    "# routine_col, filler_col = 'scaled_establish_time', 'scaled_start'"
   ]
  },
  {
   "cell_type": "code",
   "execution_count": 30,
   "metadata": {},
   "outputs": [],
   "source": [
    "# routine_col, filler_col = 'scaled_establish_no', 'scaled_utterance_no'\n",
    "# check_effect_size(routine_col, filler_col)\n",
    "\n",
    "# # routine_df, filler_df = check_effect_size(routine_col, filler_col)\n",
    "# check_effect_size(routine_col, filler_col)\n",
    "\n",
    "# shared_vals = routine_df[routine_col].values\n",
    "# filler_vals = filler_df[filler_col].values\n",
    "# shared_vals[0:5], filler_vals[0:5]"
   ]
  },
  {
   "cell_type": "markdown",
   "metadata": {},
   "source": [
    "#### for priming"
   ]
  },
  {
   "cell_type": "code",
   "execution_count": 31,
   "metadata": {},
   "outputs": [
    {
     "name": "stdout",
     "output_type": "stream",
     "text": [
      "priming utterance times vs.\\ filler utterance positions (sorted by increasing learning):\n",
      "For Team 18: $U =  826.0$, $p < .05$, $\\text{Cliff's delta} = 0.44$ \\\\\n",
      "For Team 20: $U = 1255.0$, $p = .07$, $\\text{Cliff's delta} = 0.17$ \\\\\n",
      "For Team 47: $U =  944.5$, $p < .05$, $\\text{Cliff's delta} = 0.53$ \\\\\n",
      "For Team 08: $U =  723.5$, $p = .23$, $\\text{Cliff's delta} = 0.10$ \\\\\n",
      "For Team 28: $U =  555.5$, $p < .05$, $\\text{Cliff's delta} = 0.48$ \\\\\n",
      "For Team 07: $U =  487.0$, $p < .05$, $\\text{Cliff's delta} = -0.31$ \\\\\n",
      "For Team 09: $U = 1734.5$, $p < .05$, $\\text{Cliff's delta} = 0.65$ \\\\\n",
      "For Team 17: $U =  281.5$, $p < .05$, $\\text{Cliff's delta} = 0.45$ \\\\\n",
      "For Team 10: $U =  318.0$, $p < .05$, $\\text{Cliff's delta} = 0.51$ \\\\\n",
      "For Team 11: $U =  219.5$, $p < .05$, $\\text{Cliff's delta} = 0.82$ \\\\\n"
     ]
    }
   ],
   "source": [
    "print('priming utterance times vs.\\ filler utterance positions (sorted by increasing learning):')\n",
    "routine_col, filler_col = 'scaled_priming_time', 'scaled_end'\n",
    "# routine_col, filler_col = 'scaled_priming_no', 'scaled_utterance_no'\n",
    "check_effect_size(routine_col, filler_col)"
   ]
  }
 ],
 "metadata": {
  "kernelspec": {
   "display_name": "Python 3",
   "language": "python",
   "name": "python3"
  },
  "language_info": {
   "codemirror_mode": {
    "name": "ipython",
    "version": 3
   },
   "file_extension": ".py",
   "mimetype": "text/x-python",
   "name": "python",
   "nbconvert_exporter": "python",
   "pygments_lexer": "ipython3",
   "version": "3.8.5"
  },
  "toc": {
   "base_numbering": 1,
   "nav_menu": {},
   "number_sections": false,
   "sideBar": true,
   "skip_h1_title": false,
   "title_cell": "Table of Contents",
   "title_sidebar": "Contents",
   "toc_cell": false,
   "toc_position": {},
   "toc_section_display": true,
   "toc_window_display": true
  }
 },
 "nbformat": 4,
 "nbformat_minor": 4
}
